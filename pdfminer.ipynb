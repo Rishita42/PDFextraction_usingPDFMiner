{
  "nbformat": 4,
  "nbformat_minor": 0,
  "metadata": {
    "colab": {
      "provenance": []
    },
    "kernelspec": {
      "name": "python3",
      "display_name": "Python 3"
    },
    "language_info": {
      "name": "python"
    }
  },
  "cells": [
    {
      "cell_type": "code",
      "source": [
        "!pip install pdfminer"
      ],
      "metadata": {
        "colab": {
          "base_uri": "https://localhost:8080/"
        },
        "id": "LlX4UdujXQhv",
        "outputId": "fd1eed3b-930a-410d-d2d0-51a5878349a8"
      },
      "execution_count": null,
      "outputs": [
        {
          "output_type": "stream",
          "name": "stdout",
          "text": [
            "Looking in indexes: https://pypi.org/simple, https://us-python.pkg.dev/colab-wheels/public/simple/\n",
            "Requirement already satisfied: pdfminer in /usr/local/lib/python3.9/dist-packages (20191125)\n",
            "Requirement already satisfied: pycryptodome in /usr/local/lib/python3.9/dist-packages (from pdfminer) (3.17)\n"
          ]
        }
      ]
    },
    {
      "cell_type": "code",
      "source": [
        "pip install pdfminer.six"
      ],
      "metadata": {
        "colab": {
          "base_uri": "https://localhost:8080/"
        },
        "id": "wwolirFGYXJA",
        "outputId": "16c95d83-a7da-4672-e9cd-c265ae18fa45"
      },
      "execution_count": null,
      "outputs": [
        {
          "output_type": "stream",
          "name": "stdout",
          "text": [
            "Looking in indexes: https://pypi.org/simple, https://us-python.pkg.dev/colab-wheels/public/simple/\n",
            "Requirement already satisfied: pdfminer.six in /usr/local/lib/python3.9/dist-packages (20221105)\n",
            "Requirement already satisfied: charset-normalizer>=2.0.0 in /usr/local/lib/python3.9/dist-packages (from pdfminer.six) (3.1.0)\n",
            "Requirement already satisfied: cryptography>=36.0.0 in /usr/local/lib/python3.9/dist-packages (from pdfminer.six) (39.0.2)\n",
            "Requirement already satisfied: cffi>=1.12 in /usr/local/lib/python3.9/dist-packages (from cryptography>=36.0.0->pdfminer.six) (1.15.1)\n",
            "Requirement already satisfied: pycparser in /usr/local/lib/python3.9/dist-packages (from cffi>=1.12->cryptography>=36.0.0->pdfminer.six) (2.21)\n"
          ]
        }
      ]
    },
    {
      "cell_type": "code",
      "source": [
        "from pdfminer.high_level import extract_text\n"
      ],
      "metadata": {
        "id": "mRsi145mXdau"
      },
      "execution_count": null,
      "outputs": []
    },
    {
      "cell_type": "code",
      "source": [
        "#file_path = 'https://github.com/Rishita42/datasets/blob/main/sample.pdf'\n",
        "text= extract_text('/content/drive/MyDrive/sample.pdf')\n",
        "print(text)"
      ],
      "metadata": {
        "colab": {
          "base_uri": "https://localhost:8080/"
        },
        "id": "4LRmlgt1Xp9e",
        "outputId": "0ba14b73-d00f-47ac-ae85-23a86cddb781"
      },
      "execution_count": null,
      "outputs": [
        {
          "output_type": "stream",
          "name": "stdout",
          "text": [
            " A Simple PDF File \n",
            "\n",
            " This is a small demonstration .pdf file - \n",
            "\n",
            " just for use in the Virtual Mechanics tutorials. More text. And more \n",
            " text. And more text. And more text. And more text. \n",
            "\n",
            " And more text. And more text. And more text. And more text. And more \n",
            " text. And more text. Boring, zzzzz. And more text. And more text. And \n",
            " more text. And more text. And more text. And more text. And more text. \n",
            " And more text. And more text. \n",
            "\n",
            " And more text. And more text. And more text. And more text. And more \n",
            " text. And more text. And more text. Even more. Continued on page 2 ...\n",
            "\n",
            "\f Simple PDF File 2 \n",
            "\n",
            " ...continued from page 1. Yet more text. And more text. And more text. \n",
            " And more text. And more text. And more text. And more text. And more \n",
            " text. Oh, how boring typing this stuff. But not as boring as watching \n",
            " paint dry. And more text. And more text. And more text. And more text. \n",
            " Boring.  More, a little more text. The end, and just as well. \n",
            "\n",
            "\f\n"
          ]
        }
      ]
    }
  ]
}